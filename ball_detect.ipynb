{
 "cells": [
  {
   "cell_type": "code",
   "execution_count": 393,
   "outputs": [],
   "source": [
    "import cv2\n",
    "import matplotlib.pyplot as plt\n",
    "import numpy as np\n",
    "import os\n",
    "DEBUG = False"
   ],
   "metadata": {
    "collapsed": false,
    "pycharm": {
     "name": "#%%\n"
    }
   }
  },
  {
   "cell_type": "code",
   "execution_count": 394,
   "outputs": [],
   "source": [
    "class Ball:\n",
    "    def __init__(self, team, label, loc):\n",
    "        self.team = team\n",
    "        self.label = label\n",
    "        self.loc = loc"
   ],
   "metadata": {
    "collapsed": false,
    "pycharm": {
     "name": "#%%\n"
    }
   }
  },
  {
   "cell_type": "markdown",
   "source": [
    "## Threshold by color and mask"
   ],
   "metadata": {
    "collapsed": false,
    "pycharm": {
     "name": "#%% md\n"
    }
   }
  },
  {
   "cell_type": "code",
   "execution_count": 395,
   "outputs": [],
   "source": [
    "# order is blue, green, red\n",
    "def mask_table(color_img):\n",
    "    pixels = []\n",
    "    for i in color_img:\n",
    "        for j in i:\n",
    "            pixels.append(j)\n",
    "    pixels = np.array(pixels)\n",
    "    bins = [0,100,150,255]\n",
    "    hist, bins = np.histogramdd(pixels, bins=(bins, bins, bins))\n",
    "\n",
    "    # find the highest histogram bin\n",
    "    max_r, max_g, max_b, max_val = 0, 0, 0, 0\n",
    "    for r in range(hist.shape[0]):\n",
    "        for g in range(hist.shape[1]):\n",
    "            for b in range(hist.shape[2]):\n",
    "                if hist[r][g][b] > max_val:\n",
    "                    max_val = hist[r][g][b]\n",
    "                    (max_r, max_g, max_b) = r, g, b\n",
    "    bins = bins[0]\n",
    "    lower = np.array([bins[max_r], bins[max_g], bins[max_b]])\n",
    "    upper = np.array([bins[max_r + 1], bins[max_g + 1], bins[max_b + 1]])\n",
    "    # just get the pixels in the highest histogram bin\n",
    "    mask = cv2.inRange(color_img, lower, upper)\n",
    "    # fill in the holes\n",
    "    kernel = np.ones((7, 7),np.uint8)\n",
    "    dilation = cv2.dilate(mask, kernel, iterations=10)\n",
    "    # dilation is grayscale, lets convert it to have three channels\n",
    "    rgb_dilation = np.uint8(np.zeros((dilation.shape[0], dilation.shape[1], 3)))\n",
    "    for i in range(rgb_dilation.shape[0]):\n",
    "        for j in range(rgb_dilation.shape[1]):\n",
    "            rgb_dilation[i][j][:] = dilation[i][j]\n",
    "\n",
    "    res = cv2.bitwise_and(color_img, rgb_dilation)\n",
    "    res = cv2.cvtColor(res, cv2.COLOR_BGR2RGB)\n",
    "    if DEBUG:\n",
    "        plt.imshow(res)\n",
    "        plt.show()\n",
    "    return res\n"
   ],
   "metadata": {
    "collapsed": false,
    "pycharm": {
     "name": "#%%\n"
    }
   }
  },
  {
   "cell_type": "markdown",
   "source": [
    "## Hough Circles"
   ],
   "metadata": {
    "collapsed": false,
    "pycharm": {
     "name": "#%% md\n"
    }
   }
  },
  {
   "cell_type": "code",
   "execution_count": 396,
   "outputs": [],
   "source": [
    "def hough_circles(masked_image, output_file):\n",
    "    cimg = masked_image.copy()\n",
    "    gray = cv2.cvtColor(masked_image, cv2.COLOR_RGB2GRAY)\n",
    "    h_circles = cv2.HoughCircles(gray,cv2.HOUGH_GRADIENT_ALT,param1=100, param2=0.7, dp=1.5, minRadius=12, maxRadius=15, minDist=11)\n",
    "    if h_circles is None:\n",
    "        return []\n",
    "    h_circles = np.uint16(np.around(h_circles))\n",
    "\n",
    "    k = 0\n",
    "    for i in h_circles[0,:]:\n",
    "        # draw the outer circle\n",
    "        cv2.circle(cimg,(i[0],i[1]),i[2],(0,255,0),2)\n",
    "        # draw the center of the circle\n",
    "        cv2.circle(cimg,(i[0],i[1]),2,(0,0,255),3)\n",
    "        cv2.putText(cimg, f'{k}', (i[0],i[1]), cv2.FONT_HERSHEY_PLAIN, 3, (255,255,255), 1)\n",
    "        k+=1\n",
    "\n",
    "    if DEBUG:\n",
    "        plt.title(\"Hough Circles\")\n",
    "        plt.imshow(cimg)\n",
    "    cv2.imwrite(output_file, cv2.cvtColor(cimg, cv2.COLOR_BGR2RGB))\n",
    "    return h_circles\n"
   ],
   "metadata": {
    "collapsed": false,
    "pycharm": {
     "name": "#%%\n"
    }
   }
  },
  {
   "cell_type": "markdown",
   "source": [
    "## Assume we have correct circles"
   ],
   "metadata": {
    "collapsed": false,
    "pycharm": {
     "name": "#%% md\n"
    }
   }
  },
  {
   "cell_type": "code",
   "execution_count": 397,
   "outputs": [],
   "source": [
    "def label_balls(color_img, hough_circs, output_file):\n",
    "    ## get the pixel values of all the circles\n",
    "    balls = []\n",
    "    num_solids = 0\n",
    "    num_stripes = 0\n",
    "    if len(hough_circs) == 0:\n",
    "        return balls\n",
    "    for circle in hough_circs[0,:]:\n",
    "        rad = circle[2]\n",
    "        center_x = circle[1]\n",
    "        center_y = circle[0]\n",
    "        # iterate over the box containing the circle\n",
    "        num_colored = 0\n",
    "        num_white = 0\n",
    "        num_black = 0\n",
    "        for i in range(2*rad):\n",
    "            for j in range(2*rad):\n",
    "                tmp_x = center_x - rad + i\n",
    "                tmp_y = center_y - rad + j\n",
    "                # check that the point is actually in the circle\n",
    "                if (tmp_x - center_x)**2 + (tmp_y - center_y)**2 < rad**2:\n",
    "                    pix = color[tmp_x][tmp_y]\n",
    "                    white_thresh = 100\n",
    "                    black_thresh = 50\n",
    "                    # the white pixels\n",
    "                    if pix[0] > white_thresh and pix[1] > white_thresh and pix[2] > white_thresh:\n",
    "                        num_white += 1\n",
    "                    # the black pixels\n",
    "                    elif pix[0] < black_thresh and pix[1] < black_thresh and pix[2] < black_thresh:\n",
    "                        num_black += 1\n",
    "                    else:\n",
    "                        num_colored += 1\n",
    "        total_pixels = num_white + num_black + num_colored\n",
    "        # print(num_white / total_pixels)\n",
    "        if num_white / total_pixels >= 0.95:\n",
    "            ball = Ball(team=None, label=\"cue\", loc=(center_y, center_x))\n",
    "        elif num_black / total_pixels >= 0.8:\n",
    "            ball = Ball(team=None, label=\"eight\", loc=(center_y, center_x))\n",
    "        elif num_white / total_pixels >= 0.25:\n",
    "            ball = Ball(team=\"stripes\", label=str(num_stripes), loc=(center_y, center_x))\n",
    "            num_stripes += 1\n",
    "        else:\n",
    "            ball = Ball(team=\"solids\", label=str(num_solids), loc=(center_y, center_x))\n",
    "            num_solids += 1\n",
    "        balls.append(ball)\n",
    "\n",
    "    labeled_balls = color_img.copy()\n",
    "    for b in balls:\n",
    "        if b.team == 'solids': col = (0,255,0)\n",
    "        if b.team == 'stripes': col = (255,0,255)\n",
    "        if b.team == None: col = (255,150,0)\n",
    "        cv2.putText(labeled_balls, b.team if b.team else b.label, (b.loc[0],b.loc[1]), cv2.FONT_HERSHEY_PLAIN, 1, col, 1)\n",
    "        cv2.circle(labeled_balls,(b.loc[0],b.loc[1]),2,col,2)\n",
    "\n",
    "    if DEBUG:\n",
    "        plt.imshow(cv2.cvtColor(labeled_balls, cv2.COLOR_BGR2RGB))\n",
    "    cv2.imwrite(output_file, labeled_balls)\n",
    "    return balls\n"
   ],
   "metadata": {
    "collapsed": false,
    "pycharm": {
     "name": "#%%\n"
    }
   }
  },
  {
   "cell_type": "code",
   "execution_count": 398,
   "outputs": [],
   "source": [
    "input_dir = './new_images/1280x1280'\n",
    "output_dir = './new_output_images'\n",
    "for root, dirs, files in os.walk(input_dir):\n",
    "    for file in files:\n",
    "        if file.startswith('.'): continue\n",
    "        image_path = os.path.join(root, file)\n",
    "        color = cv2.imread(image_path,1)\n",
    "        if DEBUG:\n",
    "            plt.imshow(cv2.cvtColor(color, cv2.COLOR_BGR2RGB))\n",
    "            plt.show()\n",
    "        masked_img = mask_table(color)\n",
    "        circle_file = os.path.join('.', output_dir, 'circles', file)\n",
    "        label_file = os.path.join('.', output_dir, 'labels', file)\n",
    "        circles = hough_circles(masked_img, circle_file)\n",
    "        balls = label_balls(color, circles, label_file)\n"
   ],
   "metadata": {
    "collapsed": false,
    "pycharm": {
     "name": "#%%\n"
    }
   }
  },
  {
   "cell_type": "code",
   "execution_count": 398,
   "outputs": [],
   "source": [],
   "metadata": {
    "collapsed": false,
    "pycharm": {
     "name": "#%%\n"
    }
   }
  }
 ],
 "metadata": {
  "kernelspec": {
   "display_name": "Python 3",
   "language": "python",
   "name": "python3"
  },
  "language_info": {
   "codemirror_mode": {
    "name": "ipython",
    "version": 2
   },
   "file_extension": ".py",
   "mimetype": "text/x-python",
   "name": "python",
   "nbconvert_exporter": "python",
   "pygments_lexer": "ipython2",
   "version": "2.7.6"
  }
 },
 "nbformat": 4,
 "nbformat_minor": 0
}